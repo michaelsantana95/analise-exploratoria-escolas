{
 "cells": [
  {
   "cell_type": "code",
   "execution_count": 1,
   "metadata": {},
   "outputs": [
    {
     "name": "stderr",
     "output_type": "stream",
     "text": [
      "C:\\Users\\PROFESSOR\\AppData\\Local\\Temp\\ipykernel_16732\\3381811058.py:1: DeprecationWarning: \n",
      "Pyarrow will become a required dependency of pandas in the next major release of pandas (pandas 3.0),\n",
      "(to allow more performant data types, such as the Arrow string type, and better interoperability with other libraries)\n",
      "but was not found to be installed on your system.\n",
      "If this would cause problems for you,\n",
      "please provide us feedback at https://github.com/pandas-dev/pandas/issues/54466\n",
      "        \n",
      "  import pandas as pd\n"
     ]
    }
   ],
   "source": [
    "import pandas as pd\n",
    "import matplotlib.pyplot as plt\n",
    "import seaborn as sns\n",
    "import numpy as np"
   ]
  },
  {
   "cell_type": "code",
   "execution_count": 2,
   "metadata": {},
   "outputs": [],
   "source": [
    "anos = [2019, 2021, 2022]\n",
    "\n",
    "dados_df = pd.DataFrame()\n",
    "\n",
    "for ano in anos:\n",
    "    df = pd.read_csv(f'situacaofinalalunos{ano}.csv', sep=';')\n",
    "    da = df.loc[(df['anoensino'] == '9º ANO'), ['ano', 'nescolnome', 'ebairrnome', 'cescolrpae', 'anoensino', 'nturesnome', 'mat', 'alunosexo', 'situ', 'esitaldesc']]\n",
    "    \n",
    "    dados_df = pd.concat([dados_df, da], ignore_index=True)\n",
    "\n",
    "dados_df.to_csv('tabela9ano.csv', sep=';', index=False, header=True)"
   ]
  },
  {
   "cell_type": "markdown",
   "metadata": {},
   "source": [
    "Iniciei um df vazio, depois, criei um df vazio chamado dados_df que será usado para armazenar todos os dados selecionados.\n",
    "Fiz igual o código antigo, um Loop pelos anos, usando o for, assim preenchemos sobre cada ano na lista de anos especificada.\n",
    "Em seguida li o CSV e selecionei os dados, então para cada ano, leu o arquivo CSV correspondente e seleciou os dados específicos na condição 'anoensino' == '9º ANO'.\n",
    "Adicionei dados ao DataFrame dados_df, utilizei o pd.concat (que concactena os dados) para adicionar os dados selecionados ao df dados_df. O  ignore_index=True é utilizado para ignorar os índices originais dos df e criar um novo índice sequencial para evitar duplicação.\n",
    "Então salvei o DataFrame completo, contendo todos os dados e cabeçalho no arquivo csv. O header=True garante que o arquivo contenha os cabeçalhos e o index=False evita a inclusão do índice no arquivo."
   ]
  },
  {
   "cell_type": "code",
   "execution_count": 3,
   "metadata": {},
   "outputs": [
    {
     "data": {
      "text/html": [
       "<div>\n",
       "<style scoped>\n",
       "    .dataframe tbody tr th:only-of-type {\n",
       "        vertical-align: middle;\n",
       "    }\n",
       "\n",
       "    .dataframe tbody tr th {\n",
       "        vertical-align: top;\n",
       "    }\n",
       "\n",
       "    .dataframe thead th {\n",
       "        text-align: right;\n",
       "    }\n",
       "</style>\n",
       "<table border=\"1\" class=\"dataframe\">\n",
       "  <thead>\n",
       "    <tr style=\"text-align: right;\">\n",
       "      <th></th>\n",
       "      <th>ano</th>\n",
       "      <th>nescolnome</th>\n",
       "      <th>ebairrnome</th>\n",
       "      <th>cescolrpae</th>\n",
       "      <th>anoensino</th>\n",
       "      <th>nturesnome</th>\n",
       "      <th>mat</th>\n",
       "      <th>alunosexo</th>\n",
       "      <th>situ</th>\n",
       "      <th>esitaldesc</th>\n",
       "    </tr>\n",
       "  </thead>\n",
       "  <tbody>\n",
       "    <tr>\n",
       "      <th>0</th>\n",
       "      <td>2019</td>\n",
       "      <td>ANDRE DE MELO</td>\n",
       "      <td>ESTANCIA</td>\n",
       "      <td>5</td>\n",
       "      <td>9º ANO</td>\n",
       "      <td>TARDE</td>\n",
       "      <td>15755274</td>\n",
       "      <td>M</td>\n",
       "      <td>TA</td>\n",
       "      <td>TR DUR ANO P/REDE</td>\n",
       "    </tr>\n",
       "    <tr>\n",
       "      <th>1</th>\n",
       "      <td>2019</td>\n",
       "      <td>ANDRE DE MELO</td>\n",
       "      <td>ESTANCIA</td>\n",
       "      <td>5</td>\n",
       "      <td>9º ANO</td>\n",
       "      <td>TARDE</td>\n",
       "      <td>14286068</td>\n",
       "      <td>F</td>\n",
       "      <td>RN</td>\n",
       "      <td>RENV S/SIT FINAL DEF</td>\n",
       "    </tr>\n",
       "    <tr>\n",
       "      <th>2</th>\n",
       "      <td>2019</td>\n",
       "      <td>ANDRE DE MELO</td>\n",
       "      <td>ESTANCIA</td>\n",
       "      <td>5</td>\n",
       "      <td>9º ANO</td>\n",
       "      <td>TARDE</td>\n",
       "      <td>5035864</td>\n",
       "      <td>M</td>\n",
       "      <td>RN</td>\n",
       "      <td>RENV S/SIT FINAL DEF</td>\n",
       "    </tr>\n",
       "    <tr>\n",
       "      <th>3</th>\n",
       "      <td>2019</td>\n",
       "      <td>ANDRE DE MELO</td>\n",
       "      <td>ESTANCIA</td>\n",
       "      <td>5</td>\n",
       "      <td>9º ANO</td>\n",
       "      <td>TARDE</td>\n",
       "      <td>12059293</td>\n",
       "      <td>M</td>\n",
       "      <td>RN</td>\n",
       "      <td>RENV S/SIT FINAL DEF</td>\n",
       "    </tr>\n",
       "    <tr>\n",
       "      <th>4</th>\n",
       "      <td>2019</td>\n",
       "      <td>ANDRE DE MELO</td>\n",
       "      <td>ESTANCIA</td>\n",
       "      <td>5</td>\n",
       "      <td>9º ANO</td>\n",
       "      <td>TARDE</td>\n",
       "      <td>13165470</td>\n",
       "      <td>M</td>\n",
       "      <td>RN</td>\n",
       "      <td>RENV S/SIT FINAL DEF</td>\n",
       "    </tr>\n",
       "    <tr>\n",
       "      <th>...</th>\n",
       "      <td>...</td>\n",
       "      <td>...</td>\n",
       "      <td>...</td>\n",
       "      <td>...</td>\n",
       "      <td>...</td>\n",
       "      <td>...</td>\n",
       "      <td>...</td>\n",
       "      <td>...</td>\n",
       "      <td>...</td>\n",
       "      <td>...</td>\n",
       "    </tr>\n",
       "    <tr>\n",
       "      <th>8362</th>\n",
       "      <td>2022</td>\n",
       "      <td>VILA SESAMO</td>\n",
       "      <td>COHAB</td>\n",
       "      <td>6</td>\n",
       "      <td>9º ANO</td>\n",
       "      <td>TARDE</td>\n",
       "      <td>14306131</td>\n",
       "      <td>F</td>\n",
       "      <td>AP</td>\n",
       "      <td>APROVADO</td>\n",
       "    </tr>\n",
       "    <tr>\n",
       "      <th>8363</th>\n",
       "      <td>2022</td>\n",
       "      <td>VILA SESAMO</td>\n",
       "      <td>COHAB</td>\n",
       "      <td>6</td>\n",
       "      <td>9º ANO</td>\n",
       "      <td>TARDE</td>\n",
       "      <td>14328186</td>\n",
       "      <td>M</td>\n",
       "      <td>AP</td>\n",
       "      <td>APROVADO</td>\n",
       "    </tr>\n",
       "    <tr>\n",
       "      <th>8364</th>\n",
       "      <td>2022</td>\n",
       "      <td>VILA SESAMO</td>\n",
       "      <td>COHAB</td>\n",
       "      <td>6</td>\n",
       "      <td>9º ANO</td>\n",
       "      <td>TARDE</td>\n",
       "      <td>15034879</td>\n",
       "      <td>F</td>\n",
       "      <td>AP</td>\n",
       "      <td>APROVADO</td>\n",
       "    </tr>\n",
       "    <tr>\n",
       "      <th>8365</th>\n",
       "      <td>2022</td>\n",
       "      <td>VILA SESAMO</td>\n",
       "      <td>COHAB</td>\n",
       "      <td>6</td>\n",
       "      <td>9º ANO</td>\n",
       "      <td>TARDE</td>\n",
       "      <td>15073009</td>\n",
       "      <td>F</td>\n",
       "      <td>AP</td>\n",
       "      <td>APROVADO</td>\n",
       "    </tr>\n",
       "    <tr>\n",
       "      <th>8366</th>\n",
       "      <td>2022</td>\n",
       "      <td>VILA SESAMO</td>\n",
       "      <td>COHAB</td>\n",
       "      <td>6</td>\n",
       "      <td>9º ANO</td>\n",
       "      <td>TARDE</td>\n",
       "      <td>22158626</td>\n",
       "      <td>F</td>\n",
       "      <td>AP</td>\n",
       "      <td>APROVADO</td>\n",
       "    </tr>\n",
       "  </tbody>\n",
       "</table>\n",
       "<p>8367 rows × 10 columns</p>\n",
       "</div>"
      ],
      "text/plain": [
       "       ano     nescolnome ebairrnome  cescolrpae anoensino nturesnome  \\\n",
       "0     2019  ANDRE DE MELO   ESTANCIA           5    9º ANO      TARDE   \n",
       "1     2019  ANDRE DE MELO   ESTANCIA           5    9º ANO      TARDE   \n",
       "2     2019  ANDRE DE MELO   ESTANCIA           5    9º ANO      TARDE   \n",
       "3     2019  ANDRE DE MELO   ESTANCIA           5    9º ANO      TARDE   \n",
       "4     2019  ANDRE DE MELO   ESTANCIA           5    9º ANO      TARDE   \n",
       "...    ...            ...        ...         ...       ...        ...   \n",
       "8362  2022    VILA SESAMO      COHAB           6    9º ANO      TARDE   \n",
       "8363  2022    VILA SESAMO      COHAB           6    9º ANO      TARDE   \n",
       "8364  2022    VILA SESAMO      COHAB           6    9º ANO      TARDE   \n",
       "8365  2022    VILA SESAMO      COHAB           6    9º ANO      TARDE   \n",
       "8366  2022    VILA SESAMO      COHAB           6    9º ANO      TARDE   \n",
       "\n",
       "           mat alunosexo situ            esitaldesc  \n",
       "0     15755274         M   TA     TR DUR ANO P/REDE  \n",
       "1     14286068         F   RN  RENV S/SIT FINAL DEF  \n",
       "2      5035864         M   RN  RENV S/SIT FINAL DEF  \n",
       "3     12059293         M   RN  RENV S/SIT FINAL DEF  \n",
       "4     13165470         M   RN  RENV S/SIT FINAL DEF  \n",
       "...        ...       ...  ...                   ...  \n",
       "8362  14306131         F   AP              APROVADO  \n",
       "8363  14328186         M   AP              APROVADO  \n",
       "8364  15034879         F   AP              APROVADO  \n",
       "8365  15073009         F   AP              APROVADO  \n",
       "8366  22158626         F   AP              APROVADO  \n",
       "\n",
       "[8367 rows x 10 columns]"
      ]
     },
     "execution_count": 3,
     "metadata": {},
     "output_type": "execute_result"
    }
   ],
   "source": [
    "df9ano = pd.read_csv('tabela9ano.csv', sep = ';')\n",
    "df9ano"
   ]
  },
  {
   "cell_type": "code",
   "execution_count": 4,
   "metadata": {},
   "outputs": [
    {
     "data": {
      "text/html": [
       "<div>\n",
       "<style scoped>\n",
       "    .dataframe tbody tr th:only-of-type {\n",
       "        vertical-align: middle;\n",
       "    }\n",
       "\n",
       "    .dataframe tbody tr th {\n",
       "        vertical-align: top;\n",
       "    }\n",
       "\n",
       "    .dataframe thead th {\n",
       "        text-align: right;\n",
       "    }\n",
       "</style>\n",
       "<table border=\"1\" class=\"dataframe\">\n",
       "  <thead>\n",
       "    <tr style=\"text-align: right;\">\n",
       "      <th></th>\n",
       "      <th>ANO</th>\n",
       "      <th>ESCOLA</th>\n",
       "      <th>BAIRRO</th>\n",
       "      <th>RPA</th>\n",
       "      <th>SÉRIE</th>\n",
       "      <th>TURNO</th>\n",
       "      <th>MATRÍCULA</th>\n",
       "      <th>SEXO</th>\n",
       "      <th>SITUAÇÃO</th>\n",
       "      <th>RESULTADO</th>\n",
       "    </tr>\n",
       "  </thead>\n",
       "  <tbody>\n",
       "    <tr>\n",
       "      <th>0</th>\n",
       "      <td>2019</td>\n",
       "      <td>ANDRE DE MELO</td>\n",
       "      <td>ESTANCIA</td>\n",
       "      <td>5</td>\n",
       "      <td>9º ANO</td>\n",
       "      <td>TARDE</td>\n",
       "      <td>15755274</td>\n",
       "      <td>M</td>\n",
       "      <td>TA</td>\n",
       "      <td>TR DUR ANO P/REDE</td>\n",
       "    </tr>\n",
       "    <tr>\n",
       "      <th>1</th>\n",
       "      <td>2019</td>\n",
       "      <td>ANDRE DE MELO</td>\n",
       "      <td>ESTANCIA</td>\n",
       "      <td>5</td>\n",
       "      <td>9º ANO</td>\n",
       "      <td>TARDE</td>\n",
       "      <td>14286068</td>\n",
       "      <td>F</td>\n",
       "      <td>RN</td>\n",
       "      <td>RENV S/SIT FINAL DEF</td>\n",
       "    </tr>\n",
       "    <tr>\n",
       "      <th>2</th>\n",
       "      <td>2019</td>\n",
       "      <td>ANDRE DE MELO</td>\n",
       "      <td>ESTANCIA</td>\n",
       "      <td>5</td>\n",
       "      <td>9º ANO</td>\n",
       "      <td>TARDE</td>\n",
       "      <td>5035864</td>\n",
       "      <td>M</td>\n",
       "      <td>RN</td>\n",
       "      <td>RENV S/SIT FINAL DEF</td>\n",
       "    </tr>\n",
       "    <tr>\n",
       "      <th>3</th>\n",
       "      <td>2019</td>\n",
       "      <td>ANDRE DE MELO</td>\n",
       "      <td>ESTANCIA</td>\n",
       "      <td>5</td>\n",
       "      <td>9º ANO</td>\n",
       "      <td>TARDE</td>\n",
       "      <td>12059293</td>\n",
       "      <td>M</td>\n",
       "      <td>RN</td>\n",
       "      <td>RENV S/SIT FINAL DEF</td>\n",
       "    </tr>\n",
       "    <tr>\n",
       "      <th>4</th>\n",
       "      <td>2019</td>\n",
       "      <td>ANDRE DE MELO</td>\n",
       "      <td>ESTANCIA</td>\n",
       "      <td>5</td>\n",
       "      <td>9º ANO</td>\n",
       "      <td>TARDE</td>\n",
       "      <td>13165470</td>\n",
       "      <td>M</td>\n",
       "      <td>RN</td>\n",
       "      <td>RENV S/SIT FINAL DEF</td>\n",
       "    </tr>\n",
       "    <tr>\n",
       "      <th>...</th>\n",
       "      <td>...</td>\n",
       "      <td>...</td>\n",
       "      <td>...</td>\n",
       "      <td>...</td>\n",
       "      <td>...</td>\n",
       "      <td>...</td>\n",
       "      <td>...</td>\n",
       "      <td>...</td>\n",
       "      <td>...</td>\n",
       "      <td>...</td>\n",
       "    </tr>\n",
       "    <tr>\n",
       "      <th>8362</th>\n",
       "      <td>2022</td>\n",
       "      <td>VILA SESAMO</td>\n",
       "      <td>COHAB</td>\n",
       "      <td>6</td>\n",
       "      <td>9º ANO</td>\n",
       "      <td>TARDE</td>\n",
       "      <td>14306131</td>\n",
       "      <td>F</td>\n",
       "      <td>AP</td>\n",
       "      <td>APROVADO</td>\n",
       "    </tr>\n",
       "    <tr>\n",
       "      <th>8363</th>\n",
       "      <td>2022</td>\n",
       "      <td>VILA SESAMO</td>\n",
       "      <td>COHAB</td>\n",
       "      <td>6</td>\n",
       "      <td>9º ANO</td>\n",
       "      <td>TARDE</td>\n",
       "      <td>14328186</td>\n",
       "      <td>M</td>\n",
       "      <td>AP</td>\n",
       "      <td>APROVADO</td>\n",
       "    </tr>\n",
       "    <tr>\n",
       "      <th>8364</th>\n",
       "      <td>2022</td>\n",
       "      <td>VILA SESAMO</td>\n",
       "      <td>COHAB</td>\n",
       "      <td>6</td>\n",
       "      <td>9º ANO</td>\n",
       "      <td>TARDE</td>\n",
       "      <td>15034879</td>\n",
       "      <td>F</td>\n",
       "      <td>AP</td>\n",
       "      <td>APROVADO</td>\n",
       "    </tr>\n",
       "    <tr>\n",
       "      <th>8365</th>\n",
       "      <td>2022</td>\n",
       "      <td>VILA SESAMO</td>\n",
       "      <td>COHAB</td>\n",
       "      <td>6</td>\n",
       "      <td>9º ANO</td>\n",
       "      <td>TARDE</td>\n",
       "      <td>15073009</td>\n",
       "      <td>F</td>\n",
       "      <td>AP</td>\n",
       "      <td>APROVADO</td>\n",
       "    </tr>\n",
       "    <tr>\n",
       "      <th>8366</th>\n",
       "      <td>2022</td>\n",
       "      <td>VILA SESAMO</td>\n",
       "      <td>COHAB</td>\n",
       "      <td>6</td>\n",
       "      <td>9º ANO</td>\n",
       "      <td>TARDE</td>\n",
       "      <td>22158626</td>\n",
       "      <td>F</td>\n",
       "      <td>AP</td>\n",
       "      <td>APROVADO</td>\n",
       "    </tr>\n",
       "  </tbody>\n",
       "</table>\n",
       "<p>8367 rows × 10 columns</p>\n",
       "</div>"
      ],
      "text/plain": [
       "       ANO         ESCOLA    BAIRRO  RPA   SÉRIE  TURNO  MATRÍCULA SEXO  \\\n",
       "0     2019  ANDRE DE MELO  ESTANCIA    5  9º ANO  TARDE   15755274    M   \n",
       "1     2019  ANDRE DE MELO  ESTANCIA    5  9º ANO  TARDE   14286068    F   \n",
       "2     2019  ANDRE DE MELO  ESTANCIA    5  9º ANO  TARDE    5035864    M   \n",
       "3     2019  ANDRE DE MELO  ESTANCIA    5  9º ANO  TARDE   12059293    M   \n",
       "4     2019  ANDRE DE MELO  ESTANCIA    5  9º ANO  TARDE   13165470    M   \n",
       "...    ...            ...       ...  ...     ...    ...        ...  ...   \n",
       "8362  2022    VILA SESAMO     COHAB    6  9º ANO  TARDE   14306131    F   \n",
       "8363  2022    VILA SESAMO     COHAB    6  9º ANO  TARDE   14328186    M   \n",
       "8364  2022    VILA SESAMO     COHAB    6  9º ANO  TARDE   15034879    F   \n",
       "8365  2022    VILA SESAMO     COHAB    6  9º ANO  TARDE   15073009    F   \n",
       "8366  2022    VILA SESAMO     COHAB    6  9º ANO  TARDE   22158626    F   \n",
       "\n",
       "     SITUAÇÃO             RESULTADO  \n",
       "0          TA     TR DUR ANO P/REDE  \n",
       "1          RN  RENV S/SIT FINAL DEF  \n",
       "2          RN  RENV S/SIT FINAL DEF  \n",
       "3          RN  RENV S/SIT FINAL DEF  \n",
       "4          RN  RENV S/SIT FINAL DEF  \n",
       "...       ...                   ...  \n",
       "8362       AP              APROVADO  \n",
       "8363       AP              APROVADO  \n",
       "8364       AP              APROVADO  \n",
       "8365       AP              APROVADO  \n",
       "8366       AP              APROVADO  \n",
       "\n",
       "[8367 rows x 10 columns]"
      ]
     },
     "execution_count": 4,
     "metadata": {},
     "output_type": "execute_result"
    }
   ],
   "source": [
    "# Renomeando as colunas\n",
    "\n",
    "df9ano.rename(columns={'ano':'ANO', 'nescolnome':'ESCOLA', 'ebairrnome':'BAIRRO',\n",
    "        'cescolrpae':'RPA', 'anoensino':'SÉRIE', 'nturesnome':'TURNO',\n",
    "        'mat':'MATRÍCULA', 'alunosexo':'SEXO','situ':'SITUAÇÃO', 'esitaldesc':'RESULTADO'}, inplace = True)\n",
    "df9ano"
   ]
  },
  {
   "cell_type": "code",
   "execution_count": 5,
   "metadata": {},
   "outputs": [
    {
     "name": "stdout",
     "output_type": "stream",
     "text": [
      "<class 'pandas.core.frame.DataFrame'>\n",
      "RangeIndex: 8367 entries, 0 to 8366\n",
      "Data columns (total 10 columns):\n",
      " #   Column     Non-Null Count  Dtype \n",
      "---  ------     --------------  ----- \n",
      " 0   ANO        8367 non-null   int64 \n",
      " 1   ESCOLA     8367 non-null   object\n",
      " 2   BAIRRO     8367 non-null   object\n",
      " 3   RPA        8367 non-null   int64 \n",
      " 4   SÉRIE      8367 non-null   object\n",
      " 5   TURNO      8367 non-null   object\n",
      " 6   MATRÍCULA  8367 non-null   int64 \n",
      " 7   SEXO       8367 non-null   object\n",
      " 8   SITUAÇÃO   8367 non-null   object\n",
      " 9   RESULTADO  8367 non-null   object\n",
      "dtypes: int64(3), object(7)\n",
      "memory usage: 653.8+ KB\n"
     ]
    }
   ],
   "source": [
    "df9ano.info()"
   ]
  },
  {
   "cell_type": "code",
   "execution_count": 6,
   "metadata": {},
   "outputs": [
    {
     "data": {
      "text/plain": [
       "ANO\n",
       "2022    3128\n",
       "2021    2819\n",
       "2019    2420\n",
       "Name: count, dtype: int64"
      ]
     },
     "execution_count": 6,
     "metadata": {},
     "output_type": "execute_result"
    }
   ],
   "source": [
    "df9ano['ANO'].value_counts()"
   ]
  },
  {
   "cell_type": "code",
   "execution_count": 9,
   "metadata": {},
   "outputs": [],
   "source": [
    "df9ano.drop(columns=['SITUAÇÃO'], inplace = True)"
   ]
  },
  {
   "cell_type": "code",
   "execution_count": 10,
   "metadata": {},
   "outputs": [
    {
     "name": "stdout",
     "output_type": "stream",
     "text": [
      "<class 'pandas.core.frame.DataFrame'>\n",
      "RangeIndex: 8367 entries, 0 to 8366\n",
      "Data columns (total 9 columns):\n",
      " #   Column     Non-Null Count  Dtype \n",
      "---  ------     --------------  ----- \n",
      " 0   ANO        8367 non-null   int64 \n",
      " 1   ESCOLA     8367 non-null   object\n",
      " 2   BAIRRO     8367 non-null   object\n",
      " 3   RPA        8367 non-null   int64 \n",
      " 4   SÉRIE      8367 non-null   object\n",
      " 5   TURNO      8367 non-null   object\n",
      " 6   MATRÍCULA  8367 non-null   int64 \n",
      " 7   SEXO       8367 non-null   object\n",
      " 8   RESULTADO  8367 non-null   object\n",
      "dtypes: int64(3), object(6)\n",
      "memory usage: 588.4+ KB\n"
     ]
    }
   ],
   "source": [
    "df9ano.info()"
   ]
  },
  {
   "cell_type": "code",
   "execution_count": 11,
   "metadata": {},
   "outputs": [
    {
     "data": {
      "text/plain": [
       "ANO          0\n",
       "ESCOLA       0\n",
       "BAIRRO       0\n",
       "RPA          0\n",
       "SÉRIE        0\n",
       "TURNO        0\n",
       "MATRÍCULA    0\n",
       "SEXO         0\n",
       "RESULTADO    0\n",
       "dtype: int64"
      ]
     },
     "execution_count": 11,
     "metadata": {},
     "output_type": "execute_result"
    }
   ],
   "source": [
    "df9ano.isnull().sum()"
   ]
  },
  {
   "cell_type": "code",
   "execution_count": 7,
   "metadata": {},
   "outputs": [
    {
     "data": {
      "text/plain": [
       "array([2019, 2021, 2022], dtype=int64)"
      ]
     },
     "execution_count": 7,
     "metadata": {},
     "output_type": "execute_result"
    }
   ],
   "source": [
    "df9ano['ANO'].unique()"
   ]
  },
  {
   "cell_type": "code",
   "execution_count": 17,
   "metadata": {},
   "outputs": [
    {
     "ename": "NameError",
     "evalue": "name 'value_counts' is not defined",
     "output_type": "error",
     "traceback": [
      "\u001b[1;31m---------------------------------------------------------------------------\u001b[0m",
      "\u001b[1;31mNameError\u001b[0m                                 Traceback (most recent call last)",
      "Cell \u001b[1;32mIn[17], line 1\u001b[0m\n\u001b[1;32m----> 1\u001b[0m plt\u001b[38;5;241m.\u001b[39mbar(\u001b[38;5;28mrange\u001b[39m(\u001b[38;5;28mlen\u001b[39m(\u001b[38;5;124m'\u001b[39m\u001b[38;5;124mANO\u001b[39m\u001b[38;5;124m'\u001b[39m)), \u001b[43mvalue_counts\u001b[49m)\n\u001b[0;32m      2\u001b[0m plt\u001b[38;5;241m.\u001b[39mshow()\n",
      "\u001b[1;31mNameError\u001b[0m: name 'value_counts' is not defined"
     ]
    }
   ],
   "source": [
    "plt.bar(range(len('ANO')), value_counts)\n",
    "plt.show()\n"
   ]
  },
  {
   "cell_type": "code",
   "execution_count": 8,
   "metadata": {},
   "outputs": [
    {
     "data": {
      "text/plain": [
       "<Axes: xlabel='ANO'>"
      ]
     },
     "execution_count": 8,
     "metadata": {},
     "output_type": "execute_result"
    },
    {
     "data": {
      "image/png": "[encoded data removed]",
      "text/plain": [
       "<Figure size 640x480 with 1 Axes>"
      ]
     },
     "metadata": {},
     "output_type": "display_data"
    }
   ],
   "source": [
    "df9ano[['ANO']].value_counts(normalize=False).plot(kind='bar')"
   ]
  },
  {
   "cell_type": "code",
   "execution_count": 18,
   "metadata": {},
   "outputs": [
    {
     "data": {
      "text/plain": [
       "<Axes: xlabel='ANO'>"
      ]
     },
     "execution_count": 18,
     "metadata": {},
     "output_type": "execute_result"
    },
    {
     "data": {
      "image/png": "[encoded data removed]",
      "text/plain": [
       "<Figure size 640x480 with 1 Axes>"
      ]
     },
     "metadata": {},
     "output_type": "display_data"
    }
   ],
   "source": [
    "df9ano.groupby(['ANO']).ANO.count().sort_values().plot(kind='bar')"
   ]
  },
  {
   "cell_type": "code",
   "execution_count": null,
   "metadata": {},
   "outputs": [],
   "source": []
  }
 ],
 "metadata": {
  "kernelspec": {
   "display_name": "Python 3",
   "language": "python",
   "name": "python3"
  },
  "language_info": {
   "codemirror_mode": {
    "name": "ipython",
    "version": 3
   },
   "file_extension": ".py",
   "mimetype": "text/x-python",
   "name": "python",
   "nbconvert_exporter": "python",
   "pygments_lexer": "ipython3",
   "version": "3.9.12"
  }
 },
 "nbformat": 4,
 "nbformat_minor": 2
}

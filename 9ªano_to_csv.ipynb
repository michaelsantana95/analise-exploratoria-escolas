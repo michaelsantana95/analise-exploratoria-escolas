{
 "cells": [
  {
   "cell_type": "code",
   "execution_count": 13,
   "metadata": {},
   "outputs": [],
   "source": [
    "import pandas as pd\n",
    "import matplotlib.pyplot as plt\n",
    "import seaborn as sns\n",
    "import numpy as np"
   ]
  },
  {
   "cell_type": "code",
   "execution_count": 5,
   "metadata": {},
   "outputs": [],
   "source": [
    "anos = [2019,2021,2022]\n",
    "\n",
    "for ano in anos:\n",
    "    df = pd.read_csv(f'situacaofinalalunos{ano}.csv', sep = ';')\n",
    "    da = df.loc[(df['anoensino']=='9º ANO'), ['ano', 'nescolnome', 'ebairrnome', 'cescolrpae', 'anoensino', 'nturesnome', 'mat', 'alunosexo', 'esitaldesc']]\n",
    "    da.to_csv('tabela9ano.csv', mode='a',sep = ';' , index=False)"
   ]
  },
  {
   "cell_type": "code",
   "execution_count": 19,
   "metadata": {},
   "outputs": [
    {
     "data": {
      "text/html": [
       "<div>\n",
       "<style scoped>\n",
       "    .dataframe tbody tr th:only-of-type {\n",
       "        vertical-align: middle;\n",
       "    }\n",
       "\n",
       "    .dataframe tbody tr th {\n",
       "        vertical-align: top;\n",
       "    }\n",
       "\n",
       "    .dataframe thead th {\n",
       "        text-align: right;\n",
       "    }\n",
       "</style>\n",
       "<table border=\"1\" class=\"dataframe\">\n",
       "  <thead>\n",
       "    <tr style=\"text-align: right;\">\n",
       "      <th></th>\n",
       "      <th>ano</th>\n",
       "      <th>nescolnome</th>\n",
       "      <th>ebairrnome</th>\n",
       "      <th>cescolrpae</th>\n",
       "      <th>anoensino</th>\n",
       "      <th>nturesnome</th>\n",
       "      <th>mat</th>\n",
       "      <th>alunosexo</th>\n",
       "      <th>esitaldesc</th>\n",
       "    </tr>\n",
       "  </thead>\n",
       "  <tbody>\n",
       "    <tr>\n",
       "      <th>0</th>\n",
       "      <td>2019</td>\n",
       "      <td>ANDRE DE MELO</td>\n",
       "      <td>ESTANCIA</td>\n",
       "      <td>5</td>\n",
       "      <td>9º ANO</td>\n",
       "      <td>TARDE</td>\n",
       "      <td>15755274</td>\n",
       "      <td>M</td>\n",
       "      <td>TR DUR ANO P/REDE</td>\n",
       "    </tr>\n",
       "    <tr>\n",
       "      <th>1</th>\n",
       "      <td>2019</td>\n",
       "      <td>ANDRE DE MELO</td>\n",
       "      <td>ESTANCIA</td>\n",
       "      <td>5</td>\n",
       "      <td>9º ANO</td>\n",
       "      <td>TARDE</td>\n",
       "      <td>14286068</td>\n",
       "      <td>F</td>\n",
       "      <td>RENV S/SIT FINAL DEF</td>\n",
       "    </tr>\n",
       "    <tr>\n",
       "      <th>2</th>\n",
       "      <td>2019</td>\n",
       "      <td>ANDRE DE MELO</td>\n",
       "      <td>ESTANCIA</td>\n",
       "      <td>5</td>\n",
       "      <td>9º ANO</td>\n",
       "      <td>TARDE</td>\n",
       "      <td>5035864</td>\n",
       "      <td>M</td>\n",
       "      <td>RENV S/SIT FINAL DEF</td>\n",
       "    </tr>\n",
       "    <tr>\n",
       "      <th>3</th>\n",
       "      <td>2019</td>\n",
       "      <td>ANDRE DE MELO</td>\n",
       "      <td>ESTANCIA</td>\n",
       "      <td>5</td>\n",
       "      <td>9º ANO</td>\n",
       "      <td>TARDE</td>\n",
       "      <td>12059293</td>\n",
       "      <td>M</td>\n",
       "      <td>RENV S/SIT FINAL DEF</td>\n",
       "    </tr>\n",
       "    <tr>\n",
       "      <th>4</th>\n",
       "      <td>2019</td>\n",
       "      <td>ANDRE DE MELO</td>\n",
       "      <td>ESTANCIA</td>\n",
       "      <td>5</td>\n",
       "      <td>9º ANO</td>\n",
       "      <td>TARDE</td>\n",
       "      <td>13165470</td>\n",
       "      <td>M</td>\n",
       "      <td>RENV S/SIT FINAL DEF</td>\n",
       "    </tr>\n",
       "    <tr>\n",
       "      <th>...</th>\n",
       "      <td>...</td>\n",
       "      <td>...</td>\n",
       "      <td>...</td>\n",
       "      <td>...</td>\n",
       "      <td>...</td>\n",
       "      <td>...</td>\n",
       "      <td>...</td>\n",
       "      <td>...</td>\n",
       "      <td>...</td>\n",
       "    </tr>\n",
       "    <tr>\n",
       "      <th>25096</th>\n",
       "      <td>2022</td>\n",
       "      <td>VILA SESAMO</td>\n",
       "      <td>COHAB</td>\n",
       "      <td>6</td>\n",
       "      <td>9º ANO</td>\n",
       "      <td>TARDE</td>\n",
       "      <td>14306131</td>\n",
       "      <td>F</td>\n",
       "      <td>APROVADO</td>\n",
       "    </tr>\n",
       "    <tr>\n",
       "      <th>25097</th>\n",
       "      <td>2022</td>\n",
       "      <td>VILA SESAMO</td>\n",
       "      <td>COHAB</td>\n",
       "      <td>6</td>\n",
       "      <td>9º ANO</td>\n",
       "      <td>TARDE</td>\n",
       "      <td>14328186</td>\n",
       "      <td>M</td>\n",
       "      <td>APROVADO</td>\n",
       "    </tr>\n",
       "    <tr>\n",
       "      <th>25098</th>\n",
       "      <td>2022</td>\n",
       "      <td>VILA SESAMO</td>\n",
       "      <td>COHAB</td>\n",
       "      <td>6</td>\n",
       "      <td>9º ANO</td>\n",
       "      <td>TARDE</td>\n",
       "      <td>15034879</td>\n",
       "      <td>F</td>\n",
       "      <td>APROVADO</td>\n",
       "    </tr>\n",
       "    <tr>\n",
       "      <th>25099</th>\n",
       "      <td>2022</td>\n",
       "      <td>VILA SESAMO</td>\n",
       "      <td>COHAB</td>\n",
       "      <td>6</td>\n",
       "      <td>9º ANO</td>\n",
       "      <td>TARDE</td>\n",
       "      <td>15073009</td>\n",
       "      <td>F</td>\n",
       "      <td>APROVADO</td>\n",
       "    </tr>\n",
       "    <tr>\n",
       "      <th>25100</th>\n",
       "      <td>2022</td>\n",
       "      <td>VILA SESAMO</td>\n",
       "      <td>COHAB</td>\n",
       "      <td>6</td>\n",
       "      <td>9º ANO</td>\n",
       "      <td>TARDE</td>\n",
       "      <td>22158626</td>\n",
       "      <td>F</td>\n",
       "      <td>APROVADO</td>\n",
       "    </tr>\n",
       "  </tbody>\n",
       "</table>\n",
       "<p>25101 rows × 9 columns</p>\n",
       "</div>"
      ],
      "text/plain": [
       "        ano     nescolnome ebairrnome  cescolrpae anoensino nturesnome  \\\n",
       "0      2019  ANDRE DE MELO   ESTANCIA           5    9º ANO      TARDE   \n",
       "1      2019  ANDRE DE MELO   ESTANCIA           5    9º ANO      TARDE   \n",
       "2      2019  ANDRE DE MELO   ESTANCIA           5    9º ANO      TARDE   \n",
       "3      2019  ANDRE DE MELO   ESTANCIA           5    9º ANO      TARDE   \n",
       "4      2019  ANDRE DE MELO   ESTANCIA           5    9º ANO      TARDE   \n",
       "...     ...            ...        ...         ...       ...        ...   \n",
       "25096  2022    VILA SESAMO      COHAB           6    9º ANO      TARDE   \n",
       "25097  2022    VILA SESAMO      COHAB           6    9º ANO      TARDE   \n",
       "25098  2022    VILA SESAMO      COHAB           6    9º ANO      TARDE   \n",
       "25099  2022    VILA SESAMO      COHAB           6    9º ANO      TARDE   \n",
       "25100  2022    VILA SESAMO      COHAB           6    9º ANO      TARDE   \n",
       "\n",
       "            mat alunosexo            esitaldesc  \n",
       "0      15755274         M     TR DUR ANO P/REDE  \n",
       "1      14286068         F  RENV S/SIT FINAL DEF  \n",
       "2       5035864         M  RENV S/SIT FINAL DEF  \n",
       "3      12059293         M  RENV S/SIT FINAL DEF  \n",
       "4      13165470         M  RENV S/SIT FINAL DEF  \n",
       "...         ...       ...                   ...  \n",
       "25096  14306131         F              APROVADO  \n",
       "25097  14328186         M              APROVADO  \n",
       "25098  15034879         F              APROVADO  \n",
       "25099  15073009         F              APROVADO  \n",
       "25100  22158626         F              APROVADO  \n",
       "\n",
       "[25101 rows x 9 columns]"
      ]
     },
     "execution_count": 19,
     "metadata": {},
     "output_type": "execute_result"
    }
   ],
   "source": [
    "df9ano = pd.read_csv('tabela9ano.csv', sep = ';')\n",
    "df9ano"
   ]
  },
  {
   "cell_type": "code",
   "execution_count": 20,
   "metadata": {},
   "outputs": [
    {
     "name": "stdout",
     "output_type": "stream",
     "text": [
      "<class 'pandas.core.frame.DataFrame'>\n",
      "RangeIndex: 25101 entries, 0 to 25100\n",
      "Data columns (total 9 columns):\n",
      " #   Column      Non-Null Count  Dtype \n",
      "---  ------      --------------  ----- \n",
      " 0   ano         25101 non-null  int64 \n",
      " 1   nescolnome  25101 non-null  object\n",
      " 2   ebairrnome  25101 non-null  object\n",
      " 3   cescolrpae  25101 non-null  int64 \n",
      " 4   anoensino   25101 non-null  object\n",
      " 5   nturesnome  25101 non-null  object\n",
      " 6   mat         25101 non-null  int64 \n",
      " 7   alunosexo   25101 non-null  object\n",
      " 8   esitaldesc  25101 non-null  object\n",
      "dtypes: int64(3), object(6)\n",
      "memory usage: 1.7+ MB\n"
     ]
    }
   ],
   "source": [
    "df9ano.info()"
   ]
  },
  {
   "cell_type": "code",
   "execution_count": 21,
   "metadata": {},
   "outputs": [
    {
     "data": {
      "text/plain": [
       "ano\n",
       "2022    9384\n",
       "2021    8457\n",
       "2019    7260\n",
       "Name: count, dtype: int64"
      ]
     },
     "execution_count": 21,
     "metadata": {},
     "output_type": "execute_result"
    }
   ],
   "source": [
    "df9ano['ano'].value_counts()"
   ]
  },
  {
   "cell_type": "code",
   "execution_count": 22,
   "metadata": {},
   "outputs": [
    {
     "data": {
      "text/plain": [
       "array([2019, 2021, 2022], dtype=int64)"
      ]
     },
     "execution_count": 22,
     "metadata": {},
     "output_type": "execute_result"
    }
   ],
   "source": [
    "df9ano['ano'].unique()"
   ]
  },
  {
   "cell_type": "code",
   "execution_count": 23,
   "metadata": {},
   "outputs": [
    {
     "data": {
      "text/plain": [
       "<Axes: xlabel='ano'>"
      ]
     },
     "execution_count": 23,
     "metadata": {},
     "output_type": "execute_result"
    },
    {
     "data": {
      "image/png": "[encoded data removed]",
      "text/plain": [
       "<Figure size 640x480 with 1 Axes>"
      ]
     },
     "metadata": {},
     "output_type": "display_data"
    }
   ],
   "source": [
    "df9ano[['ano']].value_counts(normalize=False).plot(kind='bar')"
   ]
  },
  {
   "cell_type": "markdown",
   "metadata": {},
   "source": [
    "A primeira análise tem que ser do ano, pra mostrar que ouve um crescimento no número dos alunos. Só falta colocar o ano em crescente."
   ]
  }
 ],
 "metadata": {
  "kernelspec": {
   "display_name": "Python 3",
   "language": "python",
   "name": "python3"
  },
  "language_info": {
   "codemirror_mode": {
    "name": "ipython",
    "version": 3
   },
   "file_extension": ".py",
   "mimetype": "text/x-python",
   "name": "python",
   "nbconvert_exporter": "python",
   "pygments_lexer": "ipython3",
   "version": "3.12.0"
  }
 },
 "nbformat": 4,
 "nbformat_minor": 2
}

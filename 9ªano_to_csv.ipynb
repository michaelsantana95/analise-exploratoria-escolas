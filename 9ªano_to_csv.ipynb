{
 "cells": [
  {
   "cell_type": "code",
   "execution_count": 7,
   "metadata": {},
   "outputs": [],
   "source": [
    "import pandas as pd\n",
    "import matplotlib.pyplot as plt\n",
    "import seaborn as sns\n",
    "import numpy as np"
   ]
  },
  {
   "cell_type": "code",
   "execution_count": 4,
   "metadata": {},
   "outputs": [],
   "source": [
    "anos = [2019,2021,2022]\n",
    "\n",
    "for ano in anos:\n",
    "    df = pd.read_csv(f'situacaofinalalunos{ano}.csv', sep = ';')\n",
    "    da = df.loc[(df['anoensino']=='9º ANO'), ['ano', 'nescolnome', 'ebairrnome', 'cescolrpae', 'anoensino', 'nturesnome', 'mat', 'alunosexo', 'esitaldesc']]\n",
    "    da.to_csv('tabela9ano.csv', mode='a',sep = ';' , index=False)\n"
   ]
  },
  {
   "cell_type": "code",
   "execution_count": 5,
   "metadata": {},
   "outputs": [
    {
     "data": {
      "text/html": [
       "<div>\n",
       "<style scoped>\n",
       "    .dataframe tbody tr th:only-of-type {\n",
       "        vertical-align: middle;\n",
       "    }\n",
       "\n",
       "    .dataframe tbody tr th {\n",
       "        vertical-align: top;\n",
       "    }\n",
       "\n",
       "    .dataframe thead th {\n",
       "        text-align: right;\n",
       "    }\n",
       "</style>\n",
       "<table border=\"1\" class=\"dataframe\">\n",
       "  <thead>\n",
       "    <tr style=\"text-align: right;\">\n",
       "      <th></th>\n",
       "      <th>ano</th>\n",
       "      <th>nescolnome</th>\n",
       "      <th>ebairrnome</th>\n",
       "      <th>cescolrpae</th>\n",
       "      <th>anoensino</th>\n",
       "      <th>nturesnome</th>\n",
       "      <th>mat</th>\n",
       "      <th>alunosexo</th>\n",
       "      <th>esitaldesc</th>\n",
       "    </tr>\n",
       "  </thead>\n",
       "  <tbody>\n",
       "    <tr>\n",
       "      <th>0</th>\n",
       "      <td>2019</td>\n",
       "      <td>ANDRE DE MELO</td>\n",
       "      <td>ESTANCIA</td>\n",
       "      <td>5</td>\n",
       "      <td>9º ANO</td>\n",
       "      <td>TARDE</td>\n",
       "      <td>15755274</td>\n",
       "      <td>M</td>\n",
       "      <td>TR DUR ANO P/REDE</td>\n",
       "    </tr>\n",
       "    <tr>\n",
       "      <th>1</th>\n",
       "      <td>2019</td>\n",
       "      <td>ANDRE DE MELO</td>\n",
       "      <td>ESTANCIA</td>\n",
       "      <td>5</td>\n",
       "      <td>9º ANO</td>\n",
       "      <td>TARDE</td>\n",
       "      <td>14286068</td>\n",
       "      <td>F</td>\n",
       "      <td>RENV S/SIT FINAL DEF</td>\n",
       "    </tr>\n",
       "    <tr>\n",
       "      <th>2</th>\n",
       "      <td>2019</td>\n",
       "      <td>ANDRE DE MELO</td>\n",
       "      <td>ESTANCIA</td>\n",
       "      <td>5</td>\n",
       "      <td>9º ANO</td>\n",
       "      <td>TARDE</td>\n",
       "      <td>5035864</td>\n",
       "      <td>M</td>\n",
       "      <td>RENV S/SIT FINAL DEF</td>\n",
       "    </tr>\n",
       "    <tr>\n",
       "      <th>3</th>\n",
       "      <td>2019</td>\n",
       "      <td>ANDRE DE MELO</td>\n",
       "      <td>ESTANCIA</td>\n",
       "      <td>5</td>\n",
       "      <td>9º ANO</td>\n",
       "      <td>TARDE</td>\n",
       "      <td>12059293</td>\n",
       "      <td>M</td>\n",
       "      <td>RENV S/SIT FINAL DEF</td>\n",
       "    </tr>\n",
       "    <tr>\n",
       "      <th>4</th>\n",
       "      <td>2019</td>\n",
       "      <td>ANDRE DE MELO</td>\n",
       "      <td>ESTANCIA</td>\n",
       "      <td>5</td>\n",
       "      <td>9º ANO</td>\n",
       "      <td>TARDE</td>\n",
       "      <td>13165470</td>\n",
       "      <td>M</td>\n",
       "      <td>RENV S/SIT FINAL DEF</td>\n",
       "    </tr>\n",
       "    <tr>\n",
       "      <th>...</th>\n",
       "      <td>...</td>\n",
       "      <td>...</td>\n",
       "      <td>...</td>\n",
       "      <td>...</td>\n",
       "      <td>...</td>\n",
       "      <td>...</td>\n",
       "      <td>...</td>\n",
       "      <td>...</td>\n",
       "      <td>...</td>\n",
       "    </tr>\n",
       "    <tr>\n",
       "      <th>8364</th>\n",
       "      <td>2022</td>\n",
       "      <td>VILA SESAMO</td>\n",
       "      <td>COHAB</td>\n",
       "      <td>6</td>\n",
       "      <td>9º ANO</td>\n",
       "      <td>TARDE</td>\n",
       "      <td>14306131</td>\n",
       "      <td>F</td>\n",
       "      <td>APROVADO</td>\n",
       "    </tr>\n",
       "    <tr>\n",
       "      <th>8365</th>\n",
       "      <td>2022</td>\n",
       "      <td>VILA SESAMO</td>\n",
       "      <td>COHAB</td>\n",
       "      <td>6</td>\n",
       "      <td>9º ANO</td>\n",
       "      <td>TARDE</td>\n",
       "      <td>14328186</td>\n",
       "      <td>M</td>\n",
       "      <td>APROVADO</td>\n",
       "    </tr>\n",
       "    <tr>\n",
       "      <th>8366</th>\n",
       "      <td>2022</td>\n",
       "      <td>VILA SESAMO</td>\n",
       "      <td>COHAB</td>\n",
       "      <td>6</td>\n",
       "      <td>9º ANO</td>\n",
       "      <td>TARDE</td>\n",
       "      <td>15034879</td>\n",
       "      <td>F</td>\n",
       "      <td>APROVADO</td>\n",
       "    </tr>\n",
       "    <tr>\n",
       "      <th>8367</th>\n",
       "      <td>2022</td>\n",
       "      <td>VILA SESAMO</td>\n",
       "      <td>COHAB</td>\n",
       "      <td>6</td>\n",
       "      <td>9º ANO</td>\n",
       "      <td>TARDE</td>\n",
       "      <td>15073009</td>\n",
       "      <td>F</td>\n",
       "      <td>APROVADO</td>\n",
       "    </tr>\n",
       "    <tr>\n",
       "      <th>8368</th>\n",
       "      <td>2022</td>\n",
       "      <td>VILA SESAMO</td>\n",
       "      <td>COHAB</td>\n",
       "      <td>6</td>\n",
       "      <td>9º ANO</td>\n",
       "      <td>TARDE</td>\n",
       "      <td>22158626</td>\n",
       "      <td>F</td>\n",
       "      <td>APROVADO</td>\n",
       "    </tr>\n",
       "  </tbody>\n",
       "</table>\n",
       "<p>8369 rows × 9 columns</p>\n",
       "</div>"
      ],
      "text/plain": [
       "       ano     nescolnome ebairrnome cescolrpae anoensino nturesnome  \\\n",
       "0     2019  ANDRE DE MELO   ESTANCIA          5    9º ANO      TARDE   \n",
       "1     2019  ANDRE DE MELO   ESTANCIA          5    9º ANO      TARDE   \n",
       "2     2019  ANDRE DE MELO   ESTANCIA          5    9º ANO      TARDE   \n",
       "3     2019  ANDRE DE MELO   ESTANCIA          5    9º ANO      TARDE   \n",
       "4     2019  ANDRE DE MELO   ESTANCIA          5    9º ANO      TARDE   \n",
       "...    ...            ...        ...        ...       ...        ...   \n",
       "8364  2022    VILA SESAMO      COHAB          6    9º ANO      TARDE   \n",
       "8365  2022    VILA SESAMO      COHAB          6    9º ANO      TARDE   \n",
       "8366  2022    VILA SESAMO      COHAB          6    9º ANO      TARDE   \n",
       "8367  2022    VILA SESAMO      COHAB          6    9º ANO      TARDE   \n",
       "8368  2022    VILA SESAMO      COHAB          6    9º ANO      TARDE   \n",
       "\n",
       "           mat alunosexo            esitaldesc  \n",
       "0     15755274         M     TR DUR ANO P/REDE  \n",
       "1     14286068         F  RENV S/SIT FINAL DEF  \n",
       "2      5035864         M  RENV S/SIT FINAL DEF  \n",
       "3     12059293         M  RENV S/SIT FINAL DEF  \n",
       "4     13165470         M  RENV S/SIT FINAL DEF  \n",
       "...        ...       ...                   ...  \n",
       "8364  14306131         F              APROVADO  \n",
       "8365  14328186         M              APROVADO  \n",
       "8366  15034879         F              APROVADO  \n",
       "8367  15073009         F              APROVADO  \n",
       "8368  22158626         F              APROVADO  \n",
       "\n",
       "[8369 rows x 9 columns]"
      ]
     },
     "execution_count": 5,
     "metadata": {},
     "output_type": "execute_result"
    }
   ],
   "source": [
    "df9ano = pd.read_csv('tabela9ano.csv', sep = ';')\n",
    "df9ano"
   ]
  },
  {
   "cell_type": "code",
   "execution_count": 6,
   "metadata": {},
   "outputs": [
    {
     "name": "stdout",
     "output_type": "stream",
     "text": [
      "<class 'pandas.core.frame.DataFrame'>\n",
      "RangeIndex: 8369 entries, 0 to 8368\n",
      "Data columns (total 9 columns):\n",
      " #   Column      Non-Null Count  Dtype \n",
      "---  ------      --------------  ----- \n",
      " 0   ano         8369 non-null   object\n",
      " 1   nescolnome  8369 non-null   object\n",
      " 2   ebairrnome  8369 non-null   object\n",
      " 3   cescolrpae  8369 non-null   object\n",
      " 4   anoensino   8369 non-null   object\n",
      " 5   nturesnome  8369 non-null   object\n",
      " 6   mat         8369 non-null   object\n",
      " 7   alunosexo   8369 non-null   object\n",
      " 8   esitaldesc  8369 non-null   object\n",
      "dtypes: object(9)\n",
      "memory usage: 588.6+ KB\n"
     ]
    }
   ],
   "source": [
    "df9ano.info()"
   ]
  },
  {
   "cell_type": "code",
   "execution_count": 8,
   "metadata": {},
   "outputs": [
    {
     "data": {
      "text/plain": [
       "<Axes: xlabel='ano'>"
      ]
     },
     "execution_count": 8,
     "metadata": {},
     "output_type": "execute_result"
    },
    {
     "data": {
      "image/png": "[encoded data removed]",
      "text/plain": [
       "<Figure size 640x480 with 1 Axes>"
      ]
     },
     "metadata": {},
     "output_type": "display_data"
    }
   ],
   "source": [
    "df9ano[['ano']].value_counts(normalize=False).plot(kind='bar')"
   ]
  },
  {
   "cell_type": "markdown",
   "metadata": {},
   "source": [
    "A primeira análise tem que ser do ano, pra mostrar que ouve um crescimento no número dos alunos. Só falta colocar o ano em crescente."
   ]
  },
  {
   "cell_type": "markdown",
   "metadata": {},
   "source": [
    "# verificar pq o ano está aparecendo na tabela."
   ]
  }
 ],
 "metadata": {
  "kernelspec": {
   "display_name": "Python 3",
   "language": "python",
   "name": "python3"
  },
  "language_info": {
   "codemirror_mode": {
    "name": "ipython",
    "version": 3
   },
   "file_extension": ".py",
   "mimetype": "text/x-python",
   "name": "python",
   "nbconvert_exporter": "python",
   "pygments_lexer": "ipython3",
   "version": "3.12.0"
  }
 },
 "nbformat": 4,
 "nbformat_minor": 2
}
